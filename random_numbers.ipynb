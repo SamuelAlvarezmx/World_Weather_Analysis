{
 "cells": [
  {
   "cell_type": "code",
   "execution_count": 1,
   "id": "11d5d4ea",
   "metadata": {},
   "outputs": [
    {
     "data": {
      "text/plain": [
       "0.1638717476723084"
      ]
     },
     "execution_count": 1,
     "metadata": {},
     "output_type": "execute_result"
    }
   ],
   "source": [
    "import random\n",
    "\n",
    "# it creates from 0 to 1\n",
    "random.random()"
   ]
  },
  {
   "cell_type": "code",
   "execution_count": 2,
   "id": "1022464a",
   "metadata": {},
   "outputs": [
    {
     "data": {
      "text/plain": [
       "9"
      ]
     },
     "execution_count": 2,
     "metadata": {},
     "output_type": "execute_result"
    }
   ],
   "source": [
    "#It gives you a random integer number between the numbers in parenthesis\n",
    "\n",
    "random.randint(-10,10)"
   ]
  },
  {
   "cell_type": "code",
   "execution_count": 3,
   "id": "d2fccbaf",
   "metadata": {},
   "outputs": [
    {
     "data": {
      "text/plain": [
       "-9"
      ]
     },
     "execution_count": 3,
     "metadata": {},
     "output_type": "execute_result"
    }
   ],
   "source": [
    "#Takes steps to the lower bounary to the higher boundary\n",
    "\n",
    "random.randrange(-9,9,2)"
   ]
  },
  {
   "cell_type": "code",
   "execution_count": 4,
   "id": "b506b3bb",
   "metadata": {},
   "outputs": [
    {
     "data": {
      "text/plain": [
       "7.9585653275886905"
      ]
     },
     "execution_count": 4,
     "metadata": {},
     "output_type": "execute_result"
    }
   ],
   "source": [
    "#it is a value float similar to random,randit but is not an integer\n",
    "\n",
    "random.uniform(-10,10)"
   ]
  },
  {
   "cell_type": "code",
   "execution_count": 5,
   "id": "d7c6b998",
   "metadata": {},
   "outputs": [
    {
     "data": {
      "text/plain": [
       "-83"
      ]
     },
     "execution_count": 5,
     "metadata": {},
     "output_type": "execute_result"
    }
   ],
   "source": [
    "#creating random numbers\n",
    "\n",
    "\n",
    "random.randint(-90,90)"
   ]
  },
  {
   "cell_type": "code",
   "execution_count": 7,
   "id": "ebda08d7",
   "metadata": {},
   "outputs": [
    {
     "data": {
      "text/plain": [
       "37.686289456240615"
      ]
     },
     "execution_count": 7,
     "metadata": {},
     "output_type": "execute_result"
    }
   ],
   "source": [
    "random_number = random.randint(-90,80) + random.random()\n",
    "\n",
    "random_number"
   ]
  },
  {
   "cell_type": "code",
   "execution_count": 9,
   "id": "a5f9c537",
   "metadata": {},
   "outputs": [
    {
     "data": {
      "text/plain": [
       "[-60.73153128272825,\n",
       " -53.87496812533288,\n",
       " 61.254681173616625,\n",
       " 31.890386471869892,\n",
       " -86.00607371394351,\n",
       " 75.2352607236647,\n",
       " 57.30448404294015,\n",
       " -24.714890828788594,\n",
       " 11.46404274773896,\n",
       " 62.30333894163435]"
      ]
     },
     "execution_count": 9,
     "metadata": {},
     "output_type": "execute_result"
    }
   ],
   "source": [
    "x = 1\n",
    "\n",
    "latitudes = []\n",
    "\n",
    "while x < 11:\n",
    "    \n",
    "    random_lat = random.randint(-90,89) + random.random()\n",
    "    \n",
    "    latitudes.append(random_lat)\n",
    "    \n",
    "    x += 1\n",
    "latitudes\n"
   ]
  },
  {
   "cell_type": "code",
   "execution_count": 10,
   "id": "afb04124",
   "metadata": {},
   "outputs": [],
   "source": [
    "#Import the numpy module\n",
    "\n",
    "import numpy as np\n"
   ]
  },
  {
   "cell_type": "code",
   "execution_count": 11,
   "id": "52f39bdc",
   "metadata": {},
   "outputs": [
    {
     "data": {
      "text/plain": [
       "-72.7549148120358"
      ]
     },
     "execution_count": 11,
     "metadata": {},
     "output_type": "execute_result"
    }
   ],
   "source": [
    "#Create random number with numpy\n",
    "\n",
    "np.random.uniform(-90,90)"
   ]
  },
  {
   "cell_type": "code",
   "execution_count": 12,
   "id": "c84145fd",
   "metadata": {},
   "outputs": [
    {
     "data": {
      "text/plain": [
       "array([-37.39860739,  32.94910092, -13.14376746, -17.42229972,\n",
       "        30.13319348,  20.35158553, -40.92526185,  24.50644004,\n",
       "       -47.46822655,  74.32633174,  86.61840448,  15.32114198,\n",
       "       -63.11769282,  -5.32571692, -63.51963404,  67.74640828,\n",
       "        74.47818301, -81.60075366, -19.24290259, -79.00591444,\n",
       "        -4.13091941, -33.86624575, -28.46048655,  84.86473888,\n",
       "       -79.94046399, -77.54261758, -52.19221743,  50.58639327,\n",
       "        24.01687452, -16.07513431,  23.9198007 , -38.10586182,\n",
       "        85.01553649, -81.44271414, -14.48442951,  37.85535065,\n",
       "        81.70501648, -19.35801207, -82.06073575,  79.43441423,\n",
       "       -68.20730707,  -8.98024824, -60.61665927,  -8.08630267,\n",
       "        71.78555068, -51.39032375, -58.07256019, -20.76433615,\n",
       "       -25.25421601, -24.76348492])"
      ]
     },
     "execution_count": 12,
     "metadata": {},
     "output_type": "execute_result"
    }
   ],
   "source": [
    "#You can make a lot of random numbers using the following\n",
    "\n",
    "np.random.uniform(-90,90, size = 50)"
   ]
  },
  {
   "cell_type": "code",
   "execution_count": 13,
   "id": "5a165bd9",
   "metadata": {},
   "outputs": [],
   "source": [
    "#Import timeit\n",
    "\n",
    "import timeit"
   ]
  },
  {
   "cell_type": "code",
   "execution_count": 15,
   "id": "765a5c26",
   "metadata": {},
   "outputs": [
    {
     "name": "stdout",
     "output_type": "stream",
     "text": [
      "12.4 µs ± 63.5 ns per loop (mean ± std. dev. of 7 runs, 100000 loops each)\n"
     ]
    }
   ],
   "source": [
    " %timeit np.random.uniform(-90,90, size = 1500)"
   ]
  },
  {
   "cell_type": "code",
   "execution_count": 16,
   "id": "ee1ea63e",
   "metadata": {},
   "outputs": [
    {
     "name": "stdout",
     "output_type": "stream",
     "text": [
      "1.35 ms ± 7.2 µs per loop (mean ± std. dev. of 7 runs, 1000 loops each)\n"
     ]
    }
   ],
   "source": [
    "def latitudes(size):\n",
    "    \n",
    "    latitudes = []\n",
    "    \n",
    "    x = 0\n",
    "    \n",
    "    while x < (size):\n",
    "        \n",
    "        random_lat = random.randint(-90,90) + random.random()\n",
    "        \n",
    "        latitudes.append(random_lat)\n",
    "        \n",
    "        x += 1\n",
    "        \n",
    "    return latitudes\n",
    "\n",
    "#call the function with 1500.\n",
    "\n",
    "%timeit latitudes(1500)"
   ]
  },
  {
   "cell_type": "code",
   "execution_count": null,
   "id": "cb7d4a0e",
   "metadata": {},
   "outputs": [],
   "source": []
  },
  {
   "cell_type": "code",
   "execution_count": null,
   "id": "70da566f",
   "metadata": {},
   "outputs": [],
   "source": []
  }
 ],
 "metadata": {
  "kernelspec": {
   "display_name": "PythonData",
   "language": "python",
   "name": "pythondata"
  },
  "language_info": {
   "codemirror_mode": {
    "name": "ipython",
    "version": 3
   },
   "file_extension": ".py",
   "mimetype": "text/x-python",
   "name": "python",
   "nbconvert_exporter": "python",
   "pygments_lexer": "ipython3",
   "version": "3.7.13"
  }
 },
 "nbformat": 4,
 "nbformat_minor": 5
}
